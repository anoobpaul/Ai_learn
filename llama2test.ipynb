{
  "nbformat": 4,
  "nbformat_minor": 0,
  "metadata": {
    "colab": {
      "provenance": [],
      "authorship_tag": "ABX9TyNFAWMQJfN1iYZ/0lIRl929",
      "include_colab_link": true
    },
    "kernelspec": {
      "name": "python3",
      "display_name": "Python 3"
    },
    "language_info": {
      "name": "python"
    }
  },
  "cells": [
    {
      "cell_type": "markdown",
      "metadata": {
        "id": "view-in-github",
        "colab_type": "text"
      },
      "source": [
        "<a href=\"https://colab.research.google.com/github/anoobpaul/Ai_learn/blob/main/llama2test.ipynb\" target=\"_parent\"><img src=\"https://colab.research.google.com/assets/colab-badge.svg\" alt=\"Open In Colab\"/></a>"
      ]
    },
    {
      "cell_type": "code",
      "execution_count": 3,
      "metadata": {
        "colab": {
          "base_uri": "https://localhost:8080/"
        },
        "id": "ApCptjCLYiyG",
        "outputId": "14645f83-96f9-41cd-c8a9-3f24187cce1f"
      },
      "outputs": [
        {
          "output_type": "stream",
          "name": "stdout",
          "text": [
            "Collecting replicate\n",
            "  Downloading replicate-0.24.0-py3-none-any.whl (37 kB)\n",
            "Collecting httpx<1,>=0.21.0 (from replicate)\n",
            "  Downloading httpx-0.27.0-py3-none-any.whl (75 kB)\n",
            "\u001b[2K     \u001b[90m━━━━━━━━━━━━━━━━━━━━━━━━━━━━━━━━━━━━━━━━\u001b[0m \u001b[32m75.6/75.6 kB\u001b[0m \u001b[31m4.6 MB/s\u001b[0m eta \u001b[36m0:00:00\u001b[0m\n",
            "\u001b[?25hRequirement already satisfied: packaging in /usr/local/lib/python3.10/dist-packages (from replicate) (23.2)\n",
            "Requirement already satisfied: pydantic>1 in /usr/local/lib/python3.10/dist-packages (from replicate) (2.6.1)\n",
            "Requirement already satisfied: typing-extensions>=4.5.0 in /usr/local/lib/python3.10/dist-packages (from replicate) (4.9.0)\n",
            "Requirement already satisfied: anyio in /usr/local/lib/python3.10/dist-packages (from httpx<1,>=0.21.0->replicate) (3.7.1)\n",
            "Requirement already satisfied: certifi in /usr/local/lib/python3.10/dist-packages (from httpx<1,>=0.21.0->replicate) (2024.2.2)\n",
            "Collecting httpcore==1.* (from httpx<1,>=0.21.0->replicate)\n",
            "  Downloading httpcore-1.0.4-py3-none-any.whl (77 kB)\n",
            "\u001b[2K     \u001b[90m━━━━━━━━━━━━━━━━━━━━━━━━━━━━━━━━━━━━━━━━\u001b[0m \u001b[32m77.8/77.8 kB\u001b[0m \u001b[31m11.9 MB/s\u001b[0m eta \u001b[36m0:00:00\u001b[0m\n",
            "\u001b[?25hRequirement already satisfied: idna in /usr/local/lib/python3.10/dist-packages (from httpx<1,>=0.21.0->replicate) (3.6)\n",
            "Requirement already satisfied: sniffio in /usr/local/lib/python3.10/dist-packages (from httpx<1,>=0.21.0->replicate) (1.3.0)\n",
            "Collecting h11<0.15,>=0.13 (from httpcore==1.*->httpx<1,>=0.21.0->replicate)\n",
            "  Downloading h11-0.14.0-py3-none-any.whl (58 kB)\n",
            "\u001b[2K     \u001b[90m━━━━━━━━━━━━━━━━━━━━━━━━━━━━━━━━━━━━━━━━\u001b[0m \u001b[32m58.3/58.3 kB\u001b[0m \u001b[31m8.4 MB/s\u001b[0m eta \u001b[36m0:00:00\u001b[0m\n",
            "\u001b[?25hRequirement already satisfied: annotated-types>=0.4.0 in /usr/local/lib/python3.10/dist-packages (from pydantic>1->replicate) (0.6.0)\n",
            "Requirement already satisfied: pydantic-core==2.16.2 in /usr/local/lib/python3.10/dist-packages (from pydantic>1->replicate) (2.16.2)\n",
            "Requirement already satisfied: exceptiongroup in /usr/local/lib/python3.10/dist-packages (from anyio->httpx<1,>=0.21.0->replicate) (1.2.0)\n",
            "Installing collected packages: h11, httpcore, httpx, replicate\n",
            "Successfully installed h11-0.14.0 httpcore-1.0.4 httpx-0.27.0 replicate-0.24.0\n"
          ]
        }
      ],
      "source": [
        "! pip install replicate"
      ]
    },
    {
      "cell_type": "code",
      "source": [
        "import os\n",
        "os.environ[\"REPLICATE_API_TOKEN\" ]=\"r8_PKsZ4yw23ban2yyWI25803D3GbpMkII41O25D\""
      ],
      "metadata": {
        "id": "xy8SVV6GaBmx"
      },
      "execution_count": 1,
      "outputs": []
    },
    {
      "cell_type": "code",
      "source": [
        "import replicate\n",
        "# replicate is the tool which helps us to run machine learnig models with cloud api.\n",
        "# Inorder to run the llama2 model, we need to create an API token in replicate. https://replicate.com/account/api-tokens"
      ],
      "metadata": {
        "id": "1myDMnL9Y9kw"
      },
      "execution_count": 9,
      "outputs": []
    },
    {
      "cell_type": "code",
      "source": [
        "output = replicate.run(\n",
        "    \"meta/llama-2-70b-chat:02e509c789964a7ea8736978a43525956ef40397be9033abf9fd2badfe68c9e3\",\n",
        "    input={\n",
        "        \"debug\": False,\n",
        "        \"top_k\": 50,\n",
        "        \"top_p\": 1,\n",
        "        \"prompt\": \"Can you write a poem similar to Stopping by the woods by Robert Forst.\",\n",
        "        \"temperature\": 0.5,\n",
        "        \"system_prompt\": \"You are a helpful, respectful and honest assistant. Always answer as helpfully as possible, while being safe. Your answers should not include any harmful, unethical, racist, sexist, toxic, dangerous, or illegal content. Please ensure that your responses are socially unbiased and positive in nature.\\n\\nIf a question does not make any sense, or is not factually coherent, explain why instead of answering something not correct. If you don't know the answer to a question, please don't share false information.\",\n",
        "        \"max_new_tokens\": 500,\n",
        "        \"min_new_tokens\": -1\n",
        "    }\n",
        ")\n",
        "\n",
        "# The meta/llama-2-70b-chat model can stream output as it's running.\n",
        "# The predict method returns an iterator, and you can iterate over that output.\n",
        "for item in output:\n",
        "    # https://replicate.com/meta/llama-2-70b-chat/api#output-schema\n",
        "    print(item, end=\"\")\n",
        ""
      ],
      "metadata": {
        "colab": {
          "base_uri": "https://localhost:8080/"
        },
        "id": "U-8a51oYJ-nj",
        "outputId": "4a9a5b5f-1875-48e6-b333-de5e230e11ff"
      },
      "execution_count": 7,
      "outputs": [
        {
          "output_type": "stream",
          "name": "stdout",
          "text": [
            " Sure, here's a poem similar to \"Stopping by the Woods\" by Robert Frost:\n",
            "\n",
            "Whose woods these are, I think I know,\n",
            "A quiet place to slow my pace,\n",
            "The trees they seemed to say,\n",
            "\"Take a break, come what may.\"\n",
            "\n",
            "The snow was deep, the air was cold,\n",
            "But I had promised to be bold,\n",
            "To stop and take a look,\n",
            "At this winter wonderland.\n",
            "\n",
            "The horses snorted, eager to go,\n",
            "But I held firm, the reins in tow,\n",
            "For in this peaceful place,\n",
            "I found a moment's grace.\n",
            "\n",
            "The trees stood tall, their branches bare,\n",
            "The wind it whispered through the air,\n",
            "A gentle lullaby,\n",
            "That seemed to say, \"Come see.\"\n",
            "\n",
            "And so I stayed, and watched the snow,\n",
            "As it fell from branch to branch below,\n",
            "Each flake unique, yet all the same,\n",
            "A reminder life's a game.\n",
            "\n",
            "The world outside may seem loud,\n",
            "But in this place, I found a shroud,\n",
            "Of silence, peace, and calm,\n",
            "That wrapped me in its balm.\n",
            "\n",
            "So here I'll stay, a little while,\n",
            "And let the woods' secrets smile,\n",
            "For in this quiet place, I found,\n",
            "A sense of peace profound."
          ]
        }
      ]
    }
  ]
}